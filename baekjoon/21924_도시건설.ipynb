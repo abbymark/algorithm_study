{
 "cells": [
  {
   "cell_type": "code",
   "execution_count": 61,
   "id": "84300b52-94f7-47c4-be44-15716de4a690",
   "metadata": {},
   "outputs": [
    {
     "name": "stdin",
     "output_type": "stream",
     "text": [
      " 8 10\n"
     ]
    }
   ],
   "source": [
    "n, m = map(int, input().split())"
   ]
  },
  {
   "cell_type": "code",
   "execution_count": 7,
   "id": "5ceea3b1-514f-45c2-80a6-899e31d99cfe",
   "metadata": {},
   "outputs": [
    {
     "name": "stdin",
     "output_type": "stream",
     "text": [
      " 1 2 15\n",
      " 2 3 7\n",
      " 1 3 3\n",
      " 1 4 8\n",
      " 3 5 6\n",
      " 4 5 4\n",
      " 4 6 12\n",
      " 5 7 1\n",
      " 6 7 6\n"
     ]
    }
   ],
   "source": [
    "graph = []\n",
    "for i in range(m):\n",
    "    graph.append(list(map(int, input().split())))"
   ]
  },
  {
   "cell_type": "code",
   "execution_count": 63,
   "id": "3ef6f9f6-01b1-41e8-a444-b24c50c1642a",
   "metadata": {},
   "outputs": [
    {
     "name": "stdin",
     "output_type": "stream",
     "text": [
      " 1 2 4\n",
      " 2 3 9\n",
      " 2 4 9\n",
      " 3 4 4\n",
      " 3 5 1\n",
      " 4 6 14\n",
      " 6 7 5\n",
      " 5 7 3\n",
      " 7 8 7\n",
      " 6 8 3\n"
     ]
    }
   ],
   "source": [
    "graph = []\n",
    "for i in range(m):\n",
    "    graph.append(list(map(int, input().split())))"
   ]
  },
  {
   "cell_type": "code",
   "execution_count": 65,
   "id": "259ba285-22fd-4cdf-a486-debe5aac4cd7",
   "metadata": {},
   "outputs": [],
   "source": [
    "max_cost = sum([i[2] for i in graph])"
   ]
  },
  {
   "cell_type": "code",
   "execution_count": 66,
   "id": "8836ac7e-3d48-4cd2-a8ae-e0f3ccdd0a1c",
   "metadata": {},
   "outputs": [],
   "source": [
    "min_cost = 0\n",
    "connected = []\n",
    "\n",
    "first_node = graph[0]\n",
    "connected.append(graph[0][0])\n",
    "while(len(connected) < n):\n",
    "    min_cost_node = -1\n",
    "    cost = 987654321\n",
    "    \n",
    "    for i,node in enumerate(graph):\n",
    "        if node[0] in connected and node[1] not in connected and node[2] < cost:\n",
    "            min_cost_node = node[1]\n",
    "            cost = node[2]\n",
    "        elif node[1] in connected and node[0] not in connected and node[2] < cost:\n",
    "            min_cost_node = node[0]\n",
    "            cost = node[2]\n",
    "    connected.append(min_cost_node)\n",
    "    min_cost += cost"
   ]
  },
  {
   "cell_type": "code",
   "execution_count": 67,
   "id": "816d02df-9659-46e3-b1cd-9542e936b8d6",
   "metadata": {},
   "outputs": [
    {
     "data": {
      "text/plain": [
       "[1, 2, 3, 5, 7, 4, 6, 8]"
      ]
     },
     "execution_count": 67,
     "metadata": {},
     "output_type": "execute_result"
    }
   ],
   "source": [
    "connected"
   ]
  },
  {
   "cell_type": "code",
   "execution_count": 68,
   "id": "e2e8eeb6-a154-449e-9671-3dab0512e80d",
   "metadata": {},
   "outputs": [
    {
     "data": {
      "text/plain": [
       "29"
      ]
     },
     "execution_count": 68,
     "metadata": {},
     "output_type": "execute_result"
    }
   ],
   "source": [
    "min_cost"
   ]
  },
  {
   "cell_type": "code",
   "execution_count": 69,
   "id": "5204e9c8-bffb-4f61-9b21-9e72b626ba8b",
   "metadata": {},
   "outputs": [
    {
     "name": "stdout",
     "output_type": "stream",
     "text": [
      "30\n"
     ]
    }
   ],
   "source": [
    "print(max_cost - min_cost)"
   ]
  },
  {
   "cell_type": "code",
   "execution_count": 71,
   "id": "cce9e8c6-b093-4a7c-b437-4561deecc5e8",
   "metadata": {},
   "outputs": [
    {
     "name": "stdin",
     "output_type": "stream",
     "text": [
      " 8 10\n",
      " 1 2 4\n",
      " 2 3 9\n",
      " 2 4 9\n",
      " 3 4 4\n",
      " 3 5 1\n",
      " 4 6 14\n",
      " 6 7 5\n",
      " 5 7 3\n",
      " 7 8 7\n",
      " 6 8 3\n"
     ]
    },
    {
     "name": "stdout",
     "output_type": "stream",
     "text": [
      "30\n"
     ]
    }
   ],
   "source": [
    "n, m = map(int, input().split())\n",
    "graph = []\n",
    "for i in range(m):\n",
    "    graph.append(list(map(int, input().split())))\n",
    "max_cost = sum([i[2] for i in graph])\n",
    "min_cost = 0\n",
    "connected = []\n",
    "\n",
    "first_node = graph[0]\n",
    "connected.append(graph[0][0])\n",
    "disconnected = False\n",
    "while(len(connected) < n):\n",
    "    min_cost_node = -1\n",
    "    cost = 987654321\n",
    "    \n",
    "    for i,node in enumerate(graph):\n",
    "        if node[0] in connected and node[1] not in connected and node[2] < cost:\n",
    "            min_cost_node = node[1]\n",
    "            cost = node[2]\n",
    "        elif node[1] in connected and node[0] not in connected and node[2] < cost:\n",
    "            min_cost_node = node[0]\n",
    "            cost = node[2]\n",
    "    if min_cost_node == -1:\n",
    "        disconnected = True\n",
    "        break\n",
    "    connected.append(min_cost_node)\n",
    "    min_cost += cost\n",
    "if disconnected:\n",
    "    print(-1)\n",
    "else:\n",
    "    print(max_cost - min_cost)"
   ]
  },
  {
   "cell_type": "code",
   "execution_count": null,
   "id": "4d0e9ab5-69a8-4051-ba2d-ab800bf22a42",
   "metadata": {},
   "outputs": [],
   "source": []
  }
 ],
 "metadata": {
  "kernelspec": {
   "display_name": "data2",
   "language": "python",
   "name": "data2"
  },
  "language_info": {
   "codemirror_mode": {
    "name": "ipython",
    "version": 3
   },
   "file_extension": ".py",
   "mimetype": "text/x-python",
   "name": "python",
   "nbconvert_exporter": "python",
   "pygments_lexer": "ipython3",
   "version": "3.8.8"
  }
 },
 "nbformat": 4,
 "nbformat_minor": 5
}
